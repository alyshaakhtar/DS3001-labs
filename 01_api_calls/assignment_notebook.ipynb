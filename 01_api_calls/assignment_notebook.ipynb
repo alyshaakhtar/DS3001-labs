{
  "cells": [
    {
      "cell_type": "markdown",
      "metadata": {
        "id": "Yi7xzykjgGP9"
      },
      "source": [
        "## Lab 1: Getting data from API's\n",
        "\n",
        "A great source of data and Pandas practice is getting data from the Internet. It is not going to come in a .csv file, though: It will be a stream of records, typically in XML (eXtensible Mark-up Language) or JSON (JavaScript Object Notation) format.\n",
        "\n",
        "We'll look at a very simple API and some useful code chunks for getting and analyzing data, and then you'll take a look at the APIs available from the Federal government as the main work for your lab.\n"
      ]
    },
    {
      "cell_type": "markdown",
      "metadata": {
        "id": "Ko09F0g3gGP-"
      },
      "source": [
        "## API Queries\n",
        "\n",
        "The core programming skill of the activity is to learn to query an online Application Programmer Interface (API). It is a similar experience to browsing the Internet, and initial results can be displayed the web browser. When visiting a web page, the address bar typically contains something like\n",
        "$$\n",
        "\\texttt{https://} \\underbrace{\\texttt{www.}}_{\\text{World Wide Web subdomain}} \\texttt{domain}. \\underbrace{\\texttt{tld}}_{\\text{Top level domain}},\n",
        "$$\n",
        "where the https:// specifies the protocol, www. specifies the world-wide-web subdomain, the domain is the entity, and the top-level domain .tld is typically something like .com or .gov, but is increasingly varied as ICANN releases more TLD's into circulation.\n",
        "\n",
        "With an online API, the user instead enters a url that goes directly to an API subdomain\n",
        "$$\n",
        "\\texttt{https://} \\underbrace{\\texttt{api.}}_{\\text{Application programmer interface}} \\texttt{domain.tld}/ \\texttt{(the query)}\n",
        "$$\n",
        "or accesses REST services as\n",
        "$$\n",
        "\\texttt{https://www.domain.tld} \\underbrace{\\texttt{/REST}}_{\\text{Accesses REST services}}/ \\texttt{(the query)}\n",
        "$$\n",
        "This accesses data on the domain's servers and returns the result directly to the user.\n",
        "\n",
        "The query itself is typically a string beginning with a question mark ?, followed by a series of expressions joined by ampersands &. For example,\n",
        "\n",
        "`?ProductType=Phone\\&Manufacturer=Apple`\n",
        "\n",
        "passes a query requesting all records for which the product type is recorded as phone and the manufacturer is recorded as Apple. Some API's include date ranges and other, more complex requests.\n",
        "\n",
        "To get started, a simple warm-up is to use the API from saferproducts.gov, which has a simple and intuitive structure for queries, and the results are simple enough to look at in the browser. Typing this in the address bar in a browser should yield about thirty records:\n",
        "\n",
        "    https://www.saferproducts.gov/RestWebServices/Recall?format=json&ProductType=Phone  \n",
        "\n",
        "with the first being, on this occasion:\n",
        "\n",
        "    \"RecallID\": 7856,\n",
        "    \"RecallNumber\": \"16266\",\n",
        "    \"RecallDate\": \"2016-09-15T00:00:00\",\n",
        "    \"Description\": \"This recall involves the Samsung Galaxy Note7 smartphone sold before\n",
        "    September 15, 2016. The recalled devices have a 5.7 inch screen and were sold in the\n",
        "    following colors: black onyx, blue coral, gold platinum and silver titanium with a\n",
        "    matching stylus. Samsung is printed on the top front of the phone and Galaxy Note7\n",
        "    is printed on the back of the phone. To determine if your phone has been recalled,\n",
        "    locate the IMEI number on the back of the phone or the packaging, and enter the IMEI\n",
        "    number into the online registration site www.samsung.com or call Samsung toll-free\n",
        "    at 844-365-6197.\",\n",
        "    \"URL\": \"https://www.cpsc.gov/Recalls/2016/Samsung-Recalls-Galaxy-Note7-Smartphones\",\n",
        "    \"Title\": \"Samsung Recalls Galaxy Note7 Smartphones Due to Serious Fire and Burn Hazards\",\n",
        "    \"ConsumerContact\": \"Contact your wireless carrier or place of purchase, call Samsung\n",
        "    toll-free at 844-365-6197 anytime, or go online at www.samsung.com.\",\n",
        "    \"LastPublishDate\": \"2016-10-27T00:00:00\"\n",
        "\n",
        "The query itself in this case is:\n",
        "\n",
        "    ?format=json&ProductType=Phone  \n",
        "\n",
        "The quert requests all of the recalls in JavaScript Object Notation (json) format, where the `ProductType` variable is equal to `Phone`. In addition to `ProductType`, other options include:\n",
        "\n",
        "    RecallID,\n",
        "    RecallNumber,\n",
        "    RecallDateStart,\n",
        "    RecallDateEnd,\n",
        "    RecallURL,\n",
        "    LastPublishDateStart,\n",
        "    LastPublishDateEnd,\n",
        "    RecallTitle,\n",
        "    ConsumerContact,\n",
        "    RecallDescription,\n",
        "    ProductName,\n",
        "    ProductDescription,\n",
        "    ProductModel,\n",
        "    ProductType,\n",
        "    InconjunctionURL,\n",
        "    ImageURL,\n",
        "    Injury,\n",
        "    Manufacturer,\n",
        "    Retailer,\n",
        "    Importer,\n",
        "    Distributor,\n",
        "    ManufacturerCountry,\n",
        "    UPC,\n",
        "    Hazard,\n",
        "    Remedy,\n",
        "    RemedyOption\n",
        "\n",
        "**1. Practice writing queries using the saferproducts.gov API and your web browser.**"
      ]
    },
    {
      "cell_type": "markdown",
      "metadata": {
        "id": "8Zwfi6ndgGP-"
      },
      "source": [
        "## Accessing API's with Python\n",
        "\n",
        "Anytime you use a computer to access resources on the Internet, you will likely run into problems. There are many options, but two with low coding overhead: The `requests` and `urrlib.requests` packages.\n",
        "\n",
        "The following code chunk uses the `requests` package to get the same kind of data that was being displayed in the browser, but in an interactive Python session:\n",
        "\n",
        "    import requests\n",
        "    url = 'https://www.saferproducts.gov/RestWebServices/' # Location of the API\n",
        "    query = 'Recall?format=json&ProductType=Exercise' # The query\n",
        "    header = {'User-Agent': 'Mozilla/5.0 (Windows NT 10.0; Win64; x64; rv:124.0)\n",
        "        Gecko/20100101 Firefox/124.0'} # The user-agent to avoid being blocked\n",
        "    raw = requests.get(url+query,headers=header) # Query the database\n",
        "    data = raw.json() # Convert data from json to dictionary\n",
        "\n",
        "To make the code easier to read, it separates the url and the query into two different strings, then concatenates them in the GET request. This makes it easier to edit the query, as well as suggests a simple way to loop over a number of queries that might be sent to the same API.\n",
        "\n",
        "Many resources are designed to block access from particular kinds of users. In order to circumvent these obstacles, you can specify a `header` dictionary that presents the query to the server as coming from a hypothetical and common user. In this case, the header presents the query as coming from a Firefox browser from a Windows computer, rather than something like `python-requests/3.12.1`. This problem appears generally in scraping data from the web, and can grind the process to a halt. For whatever reason, I have been blocked and gotten 403 errors with the `requests` package, which motivated me to prepare a second alternative that seems more robust:\n",
        "\n",
        "    import urllib.request\n",
        "    import json\n",
        "    url = 'https://www.saferproducts.gov/RestWebServices/' # Location of the API\n",
        "    query = 'Recall?format=json&ProductType=Exercise' # The query\n",
        "    response = urllib.request.urlopen(url+query)\n",
        "    response_bytes = response.read()\n",
        "    data = json.loads(response_bytes) # Convert response to json\n",
        "    response.close()\n",
        "\n",
        "This is a bit more code and some steps are a bit less human-friendly, but seems to work a bit more reliably than `requests`.\n",
        "\n",
        "**2. Practice with the saferproducts.gov API and the above code in a notebook to see how API's work, in general.**"
      ]
    },
    {
      "cell_type": "code",
      "source": [
        "import urllib.request\n",
        "import json\n",
        "url = 'https://www.saferproducts.gov/RestWebServices/' # Location of the API\n",
        "query = 'Recall?format=json&ProductType=Costume/Children%27s%20Jewelry' # The query\n",
        "response = urllib.request.urlopen(url+query)\n",
        "response_bytes = response.read()\n",
        "data = json.loads(response_bytes) # Convert response to json\n",
        "response.close()"
      ],
      "metadata": {
        "id": "Fsm7Sb8TfCFD"
      },
      "execution_count": 93,
      "outputs": []
    },
    {
      "cell_type": "code",
      "source": [
        "for item in data[:3]:\n",
        "  print(item)"
      ],
      "metadata": {
        "colab": {
          "base_uri": "https://localhost:8080/"
        },
        "id": "u53HfGw4f2tA",
        "outputId": "cd5966ed-d2c4-4576-957c-fb142a902c2e"
      },
      "execution_count": 94,
      "outputs": [
        {
          "output_type": "stream",
          "name": "stdout",
          "text": [
            "{'RecallID': 343, 'RecallNumber': '10350', 'RecallDate': '2010-09-21T00:00:00', 'Description': 'This recall involves a mood necklace which is 18 inches in length and an adjustable ring. The products change colors when the user\\'s \"mood\" changes. \"Love Tester\" and \"Are You In the Mood\" are labeled on the products\\' packaging. The products are sold separately.', 'URL': 'https://www.cpsc.gov/Recalls/2010/Childrens-Mood-Rings-and-Necklaces-Recalled-by-DD-Distributing-Wholesale-Due-To-Risk-of-Lead-Exposure', 'Title': \"Children's Mood Rings and Necklaces Recalled by D&D Distributing-Wholesale Due To Risk of Lead Exposure\", 'ConsumerContact': \"For additional information, contact D&D Distributing-Wholesale at (800) 262-9435 between 9 a.m. and 5 p.m. PT Monday through Friday or visit the firm's website at www.dddist.com\", 'LastPublishDate': '2014-05-23T00:00:00', 'Products': [{'Name': 'Love Tester Mood Rings and Necklaces', 'Description': '', 'Model': '', 'Type': \"Costume/Children's Jewelry\", 'CategoryID': '1900', 'NumberOfUnits': 'About 19,000 Rings and 4,000 Necklaces'}], 'Inconjunctions': [], 'Images': [{'URL': 'https://www.cpsc.gov/~/link/60a7236bc7224057b329708bc0022687.jpg', 'Caption': 'Recalled necklace and mood ring'}], 'Injuries': [{'Name': 'None reported.'}], 'Manufacturers': [], 'Retailers': [{'Name': 'Small retail stores nationwide from September 2005 through June 2010 for about $4.', 'CompanyID': ''}], 'Importers': [{'Name': 'D&D Distributing-Wholesale Inc., of Tacoma, Wash.', 'CompanyID': ''}], 'Distributors': [], 'SoldAtLabel': None, 'ManufacturerCountries': [{'Country': 'China'}], 'ProductUPCs': [], 'Hazards': [{'Name': 'The metal rings and necklaces contain high levels of lead. Lead is toxic if ingested by young children and can cause adverse health effects.', 'HazardType': '', 'HazardTypeID': ''}], 'Remedies': [{'Name': 'Consumers should immediately take the recalled jewelry away from children and return to the store where purchased to receive a full refund or replacement product.'}], 'RemedyOptions': []}\n",
            "{'RecallID': 290, 'RecallNumber': '10297', 'RecallDate': '2010-07-13T00:00:00', 'Description': 'This recall involves 19 different styles of children\\'s metal necklaces, bracelets and earrings. Styles and shapes of the jewelry include hearts, heart locks, butterflies, cupcakes, peace signs and crowns. Some jewelry contains the words \"Best,\" \"Friends\" or \"Forever\" and/or \"BFF.\" Only style numbers listed below are included in this recall. The style number is included on the jewelry\\'s packaging. Style #5837 Style #5837 Style #5469 Style #5814 Style #5758 Style #5467 Style #5759 Style #3609 Style #5778 Style #5782 Style #6905 Style #6927 Style #6936 Style #6904 Style #6929 Style #6907 Style #6937 Style #6908 Style #6928 Style #6912', 'URL': 'https://www.cpsc.gov/Recalls/2010/Tween-Brands-Recalls-Childrens-Metal-Jewelry-Due-to-High-Levels-of-Cadmium', 'Title': \"Tween Brands Recalls Children's Metal Jewelry Due to High Levels of Cadmium\", 'ConsumerContact': \"For additional information, contact Tween Brands at (866) 246-5822 between 9 a.m. and 5 p.m. ET Monday through Friday, or visit the firm's web site at www.shopjustice.com\", 'LastPublishDate': '2016-08-05T00:00:00', 'Products': [{'Name': 'Metal Necklaces, Bracelets and Earrings', 'Description': '', 'Model': '', 'Type': \"Costume/Children's Jewelry\", 'CategoryID': '1900', 'NumberOfUnits': 'About 137,000'}], 'Inconjunctions': [], 'Images': [{'URL': 'http://www.cpsc.gov/Global/Images/Recall/2010/10297/10297a.jpg', 'Caption': 'Justice Butterfly Earrings Style #5837'}, {'URL': 'http://www.cpsc.gov/Global/Images/Recall/2010/10297/10297b.jpg', 'Caption': 'Justice Cupcake Earrings (White) Style #5469'}, {'URL': 'http://www.cpsc.gov/Global/Images/Recall/2010/10297/10297c.jpg', 'Caption': 'Justice Cupcake Earrings (Dark Pink) Style #5814'}, {'URL': 'http://www.cpsc.gov/Global/Images/Recall/2010/10297/10297d.jpg', 'Caption': 'Justice Cupcake Earrings (Light Pink) Style #5758'}, {'URL': 'http://www.cpsc.gov/Global/Images/Recall/2010/10297/10297e.jpg', 'Caption': 'Justice Cupcake Earrings (Brown) Style #5467'}, {'URL': 'http://www.cpsc.gov/Global/Images/Recall/2010/10297/10297f.jpg', 'Caption': 'Justice Cupcake Earrings (Light Blue) Style #5759'}, {'URL': 'http://www.cpsc.gov/Global/Images/Recall/2010/10297/10297g.jpg', 'Caption': 'Justice \"BFF\" Bracelet Style #3609'}, {'URL': 'http://www.cpsc.gov/Global/Images/Recall/2010/10297/10297h.jpg', 'Caption': 'Justice \"BFF\" Bracelet Style #5778'}, {'URL': 'http://www.cpsc.gov/Global/Images/Recall/2010/10297/10297i.jpg', 'Caption': 'Justice \"BFF\" Bracelet Style #5782'}, {'URL': 'http://www.cpsc.gov/Global/Images/Recall/2010/10297/10297j.jpg', 'Caption': 'Justice Heart Lock Necklace Style #6905'}, {'URL': 'http://www.cpsc.gov/Global/Images/Recall/2010/10297/10297k.jpg', 'Caption': 'Justice Cupcake Necklace (Light Pink) Style #6927'}, {'URL': 'http://www.cpsc.gov/Global/Images/Recall/2010/10297/10297l.jpg', 'Caption': 'Justice Cupcake Necklace (Royal Blue) Style #6936'}, {'URL': 'http://www.cpsc.gov/Global/Images/Recall/2010/10297/10297m.jpg', 'Caption': 'Justice \"BFF\" Necklace Style #6904'}, {'URL': 'http://www.cpsc.gov/Global/Images/Recall/2010/10297/10297n.jpg', 'Caption': 'Justice Cupcake Necklace (White) Style #6929'}, {'URL': 'http://www.cpsc.gov/Global/Images/Recall/2010/10297/10297o.jpg', 'Caption': 'Justice Heart Necklace Style #6907'}, {'URL': 'http://www.cpsc.gov/Global/Images/Recall/2010/10297/10297p.jpg', 'Caption': 'Justice Cupcake Necklace (Dark Pink) Style #6937'}, {'URL': 'http://www.cpsc.gov/Global/Images/Recall/2010/10297/10297q.jpg', 'Caption': 'Justice Crown Necklace Style #6908'}, {'URL': 'http://www.cpsc.gov/Global/Images/Recall/2010/10297/10297r.jpg', 'Caption': 'Justice Cupcake Necklace (Light Blue) Style #6928'}, {'URL': 'http://www.cpsc.gov/Global/Images/Recall/2010/10297/10297s.jpg', 'Caption': 'Justice Peace Sign Necklace Style #6912'}, {'URL': 'http://www.cpsc.gov/Global/Images/Recall/2010/10297/10297t.jpg', 'Caption': 'Style number location'}], 'Injuries': [{'Name': 'None reported'}], 'Manufacturers': [], 'Retailers': [{'Name': 'Justice and Limited Too stores and online at www.shopjustice.com from November 2008 through February 2010 for between $7 and $16.', 'CompanyID': ''}], 'Importers': [{'Name': 'Tween Brands Inc., of New Albany, Ohio', 'CompanyID': ''}], 'Distributors': [{'Name': 'Tween Brands Inc., of New Albany, Ohio', 'CompanyID': ''}], 'SoldAtLabel': None, 'ManufacturerCountries': [{'Country': 'China'}], 'ProductUPCs': [], 'Hazards': [{'Name': \"The children's metal jewelry contains high levels of cadmium. Cadmium is toxic if ingested by children and can cause adverse health effects.\", 'HazardType': '', 'HazardTypeID': ''}], 'Remedies': [{'Name': 'Consumers should immediately take the recalled jewelry away from children and return it to any Justice or Limited Too store for a full refund.'}], 'RemedyOptions': [{'Option': 'Refund'}]}\n",
            "{'RecallID': 286, 'RecallNumber': '10292', 'RecallDate': '2010-07-01T00:00:00', 'Description': 'This recall involves children\\'s coin purses with rainbow stripes and children\\'s earrings and necklaces that have blue, pink, red, white and yellow colored droplets. \"THE COIN PURSE\" and \"Mobile case COIN PUASE\" are printed on the tag attached to the purse. \"Colorful Drop Accessory Bracelet\" is printed on the front of the necklace packages and \"Colorful Drop Accessory Pierce\" is printed on the front of the earring packages. The tag and packaging have \"Produced for Daiso Japan\" on either the front or back.', 'URL': 'https://www.cpsc.gov/Recalls/2010/Daiso-Recalls-Childrens-Coin-Purses-and-Jewelry-Due-to-Risk-of-Lead-Exposure', 'Title': \"Daiso Recalls Children's Coin Purses and Jewelry Due to Risk of Lead Exposure\", 'ConsumerContact': \"For more information, contact Daiso toll-free at (888) 580-8841 between 9:30 a.m. and 6:30 p.m. PT Monday through Friday or visit the firm's website at www.daisorecall.com\", 'LastPublishDate': '2014-05-23T00:00:00', 'Products': [{'Name': \"Children's Coin Purse and Jewelry\", 'Description': '', 'Model': '', 'Type': \"Costume/Children's Jewelry\", 'CategoryID': '1900', 'NumberOfUnits': 'About 190'}], 'Inconjunctions': [], 'Images': [{'URL': 'https://www.cpsc.gov/~/link/ff4d82d1b0d94f0e910eef486b53e25f.jpg', 'Caption': \"Recalled Children's Coin Purse\"}, {'URL': 'https://www.cpsc.gov/~/link/5ec9c51256ad4cbd93c12661d998d1b7.jpg', 'Caption': \"Recalled Children's earrings and necklaces\"}], 'Injuries': [{'Name': 'None reported.'}], 'Manufacturers': [], 'Retailers': [{'Name': 'Daiso stores in California and Washington from May 2009 through December 2009 for about $1.50.', 'CompanyID': ''}], 'Importers': [{'Name': 'Daiso California LLC of Hayward, Calif.', 'CompanyID': ''}], 'Distributors': [], 'SoldAtLabel': None, 'ManufacturerCountries': [{'Country': 'China'}, {'Country': 'South Korea'}], 'ProductUPCs': [], 'Hazards': [{'Name': 'The surface paint on the zippers of the coin purses and the clasps on the jewelry contain high levels of lead. Lead is toxic if ingested by young children and can cause adverse health effects.', 'HazardType': '', 'HazardTypeID': ''}], 'Remedies': [{'Name': 'Consumers should immediately take the recalled products away from children and contact Daiso for a full refund.'}], 'RemedyOptions': []}\n"
          ]
        }
      ]
    },
    {
      "cell_type": "markdown",
      "metadata": {
        "id": "CWk9ceyRgGP_"
      },
      "source": [
        "## Wrangling the Data\n",
        "\n",
        "Piping the data to Pandas is easy, because the preceding code chunk put the JSON data into a native Python dictionary, and the following converts it to a dataframe:\n",
        "\n",
        "    df = pd.DataFrame.from_dict(data)\n",
        "\n",
        "If the data is in raw XML or JSON format --- which might especially be true with other API's --- it would instead be \\texttt{pd.read\\_xml(data)} or \\texttt{pd.read\\_json(data)}. Ironing out these details in advance for other applications is a key part of the presentation for students, but having students resolve these issues as a component of group work or an assignment is a great way to help them mature as coding problem solvers by struggling with documentation and a well-defined problem.\n",
        "\n",
        "Unfortunately, there aren't many non-text fields in the \\texttt{www.saferproducts.gov} data. However, there are a few fields of interest that can be tabulated and discussed, such as RemedyOptions and ManufacturerCountries:\n",
        "\n",
        "    df['RemedyOptions'].value_counts()\n",
        "\n",
        "with output\n",
        "\n",
        "    RemedyOptions\n",
        "    []                                                                               139\n",
        "    [{'Option': 'Repair'}]                                                            49\n",
        "    [{'Option': 'Replace'}]                                                           12\n",
        "    [{'Option': 'Refund'}]                                                             7\n",
        "    [{'Option': 'Replace'}, {'Option': 'Repair'}]                                      4\n",
        "    [{'Option': 'Refund'}, {'Option': 'Replace'}, {'Option': 'Repair'}]                1\n",
        "    [{'Option': 'Replace'}, {'Option': 'Refund'}]                                      1\n",
        "    [{'Option': 'Refund'}, {'Option': 'Repair'}]                                       1\n",
        "    [{'Option': 'Label'}]                                                              1\n",
        "    [{'Option': 'New Instructions'}, {'Option': 'Replace'}, {'Option': 'Refund'}]      1\n",
        "    Name: count, dtype: int64\n",
        "\n",
        "It's appropriate at this point to do some data cleaning, particularly by flattening dictionary entries. With response data that get converted from json to a dictionary, there are often values in the data frame that need to be flattened or unpacked. For example, some values are recorded as \\texttt{ [$\\{$'Country':'Canada'$\\}$]}, or, worse, a dictionary with multiple entries: \\texttt{[ $\\{$ 'Option': 'Replace'$\\}$, $\\{$'Option': 'Repair'$\\}$]  ] }. This can lead to problems when another package refuses to work with a lists of lists or doesn't know how to simplify a dictionary to data, and presents some conceptual questions when cleaning.\n",
        "\n",
        "A simple script to recursively collapse the dictionary entries into a single string is:\n",
        "\n",
        "    temp = df['RemedyOptions']\n",
        "    clean_values = []\n",
        "    for i in range(len(temp)):\n",
        "        if len(temp[i])>0:\n",
        "            values = []\n",
        "            for j in range(len(temp[i])):\n",
        "                values.append(temp[i][j]['Option'] )\n",
        "            clean_values.append(values)\n",
        "        else:\n",
        "            clean_values.append('')\n",
        "    df['remedy'] = clean_values\n",
        "\n",
        "**3. Convert this code chunk into a function you can reuse to flatten dictionaries, or explain clearly the problems you run into while attempting to do so. Make some tables or plots.**\n"
      ]
    },
    {
      "cell_type": "code",
      "source": [
        "import pandas as pd\n",
        "def flatten_dictionary(df, unclean_column_name, clean_column_name, flatten_word):\n",
        "  temp = df[unclean_column_name]\n",
        "  clean_values = []\n",
        "  for i in range(len(temp)):\n",
        "      if len(temp[i])>0:\n",
        "          values = []\n",
        "          for j in range(len(temp[i])):\n",
        "              values.append(temp[i][j][flatten_word])\n",
        "          clean_values.append(', '.join(values))\n",
        "      else:\n",
        "          clean_values.append('')\n",
        "  df[clean_column_name] = clean_values\n",
        "  return df"
      ],
      "metadata": {
        "id": "8I_JTpIKhm80"
      },
      "execution_count": 95,
      "outputs": []
    },
    {
      "cell_type": "code",
      "source": [
        "import urllib.request\n",
        "import json\n",
        "url = 'https://www.saferproducts.gov/RestWebServices/' # Location of the API\n",
        "query = 'Recall?format=json&ProductType=Exercise' # The query\n",
        "response = urllib.request.urlopen(url+query)\n",
        "response_bytes = response.read()\n",
        "data = json.loads(response_bytes) # Convert response to json\n",
        "response.close()"
      ],
      "metadata": {
        "id": "zaV6NLvfk9ks"
      },
      "execution_count": 96,
      "outputs": []
    },
    {
      "cell_type": "code",
      "source": [
        "for item in data[:3]:\n",
        "  print(item)"
      ],
      "metadata": {
        "colab": {
          "base_uri": "https://localhost:8080/"
        },
        "id": "Lt8PndK9lBjo",
        "outputId": "2ae5eda8-7460-44d7-e6d6-9d1aab03e8da"
      },
      "execution_count": 97,
      "outputs": [
        {
          "output_type": "stream",
          "name": "stdout",
          "text": [
            "{'RecallID': 7832, 'RecallNumber': '16247', 'RecallDate': '2016-08-23T00:00:00', 'Description': 'This recall involves \"Step-iT\" activity wristbands, which come in two styles-\"Activity Counter\" and a motion-activated \"Light-up Band.\" The Activity Counter comes in translucent plastic orange, blue or green and features a digital screen that tracks a child\\'s steps or other movement. The Light-up Band comes in translucent plastic red, purple, or orange and blinks light with the child\\'s movement. Both styles of activity wristbands have a square face with the words \"STEP-iT\" printed on them and a button to depress and activate the wristband. The back of the square face contains the etched words \"Made for McDonald\\'s.\"', 'URL': 'https://www.cpsc.gov/Recalls/2016/McDonalds-Recalls-Step-iT-Activity-Wristbands', 'Title': 'McDonald’s Recalls “Step-iT” Activity Wristbands Due to Risk of Skin Irritation or Burns', 'ConsumerContact': 'McDonald\\'s at 800-244-6227 from 7 a.m. to 7 p.m. CT daily, or online at www.mcdonalds.com and click on \"Safety Recall\" for more information.', 'LastPublishDate': '2016-08-23T00:00:00', 'Products': [{'Name': 'Step-iT Activity Wristbands', 'Description': '', 'Model': '', 'Type': 'Exercise', 'CategoryID': '68363', 'NumberOfUnits': 'About 29 million units in the U.S. (in addition, about 3.6 million units in Canada)'}], 'Inconjunctions': [{'URL': 'http://healthycanadians.gc.ca/recall-alert-rappel-avis/hc-sc/2016/59920r-eng.php'}], 'Images': [{'URL': 'https://www.cpsc.gov/s3fs-public/CR003106_b03_CMYK_Simp800.jpg', 'Caption': 'Activity wristband'}, {'URL': 'https://www.cpsc.gov/s3fs-public/CR003106_g06_CMYK_Simp800.jpg', 'Caption': 'Activity wristband'}, {'URL': 'https://www.cpsc.gov/s3fs-public/CR003106_e08_CMYK_Simp800.jpg', 'Caption': 'Activity wristband'}, {'URL': 'https://www.cpsc.gov/s3fs-public/CR003106_f06_CMYK_Simp800.jpg', 'Caption': 'Activity wristband'}, {'URL': 'https://www.cpsc.gov/s3fs-public/CR003106_d05_CMYK_Simp800.jpg', 'Caption': 'Activity wristband'}, {'URL': 'https://www.cpsc.gov/s3fs-public/CR003106_c04_CMYK_Simp800.jpg', 'Caption': 'Activity wristband'}], 'Injuries': [{'Name': \"McDonald's has received more than 70 reports of incidents, including seven reports of blisters, after wearing the wristbands.\"}], 'Manufacturers': [], 'Retailers': [{'Name': \"Distributed exclusively by McDonald's restaurants nationwide from August 9, 2016 to August 17, 2016 with Happy Meals and Mighty Kids Meals.\", 'CompanyID': ''}], 'Importers': [], 'Distributors': [{'Name': \"McDonald's Corp., of Oakbrook, Ill.\", 'CompanyID': ''}], 'SoldAtLabel': None, 'ManufacturerCountries': [{'Country': 'China'}], 'ProductUPCs': [], 'Hazards': [{'Name': 'The recalled wristbands can cause skin irritation or burns to children.', 'HazardType': '', 'HazardTypeID': ''}], 'Remedies': [{'Name': \"Consumers should immediately take the recalled wristbands from children and return them to any McDonald's for a free replacement toy and either a yogurt tube or bag of apple slices.\"}], 'RemedyOptions': [{'Option': 'Replace'}]}\n",
            "{'RecallID': 6724, 'RecallNumber': '16742', 'RecallDate': '2016-05-10T00:00:00', 'Description': 'This recall involves the Olympic Decline free weight bench with model numbers 16060, 16061, 16062 and 16063. The bench consists of a steel frame with an upholstered pad on which the user rests his/her back, and a rack on which the user can engage a 7-foot bar with its weight plates when the user completes the exercise routine. On all of these models the upholstered pad is configured at a 15 degree angle so that, in use, the user\\'s back and shoulders are lower than the user\\'s thighs and knees. A decal bearing the unit\\'s model and serial number is affixed to the tube near where the user\\'s feet are placed when using the unit. The recalled benches have serial numbers C1208 through K0915, which represent manufacture dates of December 2008 through September 2015. \"Cybex\" is printed on the benches.', 'URL': 'https://www.cpsc.gov/Recalls/2016/Cybex-International-Recalls-Decline-Free-Weight-Benches', 'Title': 'Cybex International Recalls Decline Free Weight Benches Due to Impact Injury Hazard (Recall Alert)', 'ConsumerContact': 'Cybex toll-free at 888-462-9239 from 8 a.m. to 5 p.m. ET Monday through Friday or online at www.cybexintl.com and click on Support for more information.', 'LastPublishDate': '2016-05-10T00:00:00', 'Products': [{'Name': 'Decline free weight benches', 'Description': '', 'Model': '', 'Type': 'Exercise Equipment', 'CategoryID': '68360', 'NumberOfUnits': 'About 400'}], 'Inconjunctions': [], 'Images': [{'URL': 'https://www.cpsc.gov/s3fs-public/CybexFreeWeightBenchLARGE.jpg', 'Caption': 'Olympic Decline Free Weight Bench'}, {'URL': 'https://www.cpsc.gov/s3fs-public/Olympic-Decline-Free-Weight.jpg', 'Caption': 'Olympic Decline Free Weight Bench Model 16063'}], 'Injuries': [{'Name': 'The firm received 10 reports of frames breaking near the weld point. No injuries have been reported.'}], 'Manufacturers': [{'Name': 'Cybex International, Inc. of Medway, Mass.', 'CompanyID': ''}], 'Retailers': [{'Name': 'Cybex direct sales force or its distributors directly to gyms nationwide from December 2008 through September 2015 for about $1,100.', 'CompanyID': ''}], 'Importers': [], 'Distributors': [], 'SoldAtLabel': None, 'ManufacturerCountries': [{'Country': 'United States'}], 'ProductUPCs': [], 'Hazards': [{'Name': 'The frame on the bench can collapse forward onto the user, posing an impact injury hazard.', 'HazardType': '', 'HazardTypeID': ''}], 'Remedies': [{'Name': 'Consumers should immediately stop using the recalled benches and contact Cybex to arrange to return the weight bench and for a free replacement unit. Cybex is directly contacting owners of the recalled benches.'}], 'RemedyOptions': [{'Option': 'Replace'}]}\n",
            "{'RecallID': 6488, 'RecallNumber': '15749', 'RecallDate': '2015-08-25T00:00:00', 'Description': 'This recall involves four models of exercise machines that allow consumers to use the resistance from the selected weight to perform bicep curls. The user sits on an adjustable seat, selects the amount of weight, and grabs the swivel handles to perform a curl motion towards them. The recall affects the VR2, VR2TA, Eagle, and the VR3 models with the following serial numbers. A complete list of serial numbers is available at www.cybexintl.com. The serial number is located on the frame tube of the weight stack by the floor. Cybex and the model name are printed on the top of the machine. Models Serial Numbers starting with VR2 Arm Curl 451691S068646, 4535XXXX A01-050 through A03-230 SN #1, SN#0006 X05-070 through X12-230 Y01-090 through Y12-300 Z01-060 through Z12-200 VR2TA Arm Curl A01-100 through A12-190 B01-260 through B09-180 X10-230 Y10-210, Y12-310 Z02-240 through Z12-160 Eagle Arm Curl 1107090W through 1107098X A01-061 through A12-291 B01-081 through B12-281 C01-091 through C10-311 X01-071 through X12-311 Y01-131 through Y12-311 Z01-051 through Z12-301 VR3 Arm Curl 1005120708168N A01-051 through A12-291 B00-121 through B12-281 C01-041 through C10-311 Z09-061 through Z12-281', 'URL': 'https://www.cpsc.gov/Recalls/2015/Cybex-International-Recalls-Arm-Curl-Machines', 'Title': 'Cybex International Recalls Arm Curl Machines Due to Impact Injury Hazard (Recall Alert) ', 'ConsumerContact': 'Cybex International toll-free at 888-678-3846 from 8 a.m. to 5 p.m. ET Monday through Friday or online at www.cybexintl.com and click on Support, followed by Service and then Recalls for more information. ', 'LastPublishDate': '2015-08-25T00:00:00', 'Products': [{'Name': 'Arm Curl Machines', 'Description': '', 'Model': '', 'Type': 'Exercise Machines/Equipment', 'CategoryID': '1933', 'NumberOfUnits': 'About 4,400'}], 'Inconjunctions': [], 'Images': [{'URL': 'https://www.cpsc.gov/s3fs-public/Recall.2015.15749.VR2Model.jpg', 'Caption': 'VR2 Model'}, {'URL': 'https://www.cpsc.gov/s3fs-public/Recall.2015.15749.VR2TAModel.jpg', 'Caption': 'VR2 TA Model'}, {'URL': 'https://www.cpsc.gov/s3fs-public/Recall.2015.15749.EagelModel.jpg', 'Caption': 'Eagle Model'}, {'URL': 'https://www.cpsc.gov/s3fs-public/Recall.2015.15749.VR3Model.jpg', 'Caption': 'VR3 Model'}], 'Injuries': [{'Name': 'The firm has received 108 reports of incidents, including 12 reports of injury to users. One injury involved loss of sight to one eye.'}], 'Manufacturers': [{'Name': 'Cybex International, Inc., of Medway, Mass.', 'CompanyID': ''}], 'Retailers': [{'Name': 'Cybex or its distributors directly to gyms from November 1996 through October 2008 for between $3,700 and $4,200', 'CompanyID': ''}], 'Importers': [], 'Distributors': [], 'SoldAtLabel': None, 'ManufacturerCountries': [{'Country': 'United States'}], 'ProductUPCs': [], 'Hazards': [{'Name': 'The swivel handles can break off from the frame causing users to hit themselves in the face or head, posing an impact injury hazard.', 'HazardType': '', 'HazardTypeID': ''}], 'Remedies': [{'Name': 'Consumers should immediately stop using the recalled product and contact the firm for a free repair kit. Cybex is contacting purchasers of the recalled arm curl machines directly.'}], 'RemedyOptions': [{'Option': 'Repair'}]}\n"
          ]
        }
      ]
    },
    {
      "cell_type": "code",
      "source": [
        "df = pd.DataFrame.from_dict(data)"
      ],
      "metadata": {
        "id": "rCh75t0mlFY7"
      },
      "execution_count": 98,
      "outputs": []
    },
    {
      "cell_type": "code",
      "source": [
        "df['RemedyOptions'].value_counts()"
      ],
      "metadata": {
        "colab": {
          "base_uri": "https://localhost:8080/",
          "height": 335
        },
        "id": "-8W2HEcxlTLU",
        "outputId": "ccb6869c-5fcc-4581-ebb2-00f0116c442e"
      },
      "execution_count": 99,
      "outputs": [
        {
          "output_type": "execute_result",
          "data": {
            "text/plain": [
              "RemedyOptions\n",
              "[]                                                        66\n",
              "[{'Option': 'Repair'}]                                     9\n",
              "[{'Option': 'Replace'}]                                    8\n",
              "[{'Option': 'Refund'}]                                     5\n",
              "[{'Option': 'Replace'}, {'Option': 'Refund'}]              1\n",
              "[{'Option': 'Refund'}, {'Option': 'Repair'}]               1\n",
              "[{'Option': 'New Instructions'}, {'Option': 'Repair'}]     1\n",
              "Name: count, dtype: int64"
            ],
            "text/html": [
              "<div>\n",
              "<style scoped>\n",
              "    .dataframe tbody tr th:only-of-type {\n",
              "        vertical-align: middle;\n",
              "    }\n",
              "\n",
              "    .dataframe tbody tr th {\n",
              "        vertical-align: top;\n",
              "    }\n",
              "\n",
              "    .dataframe thead th {\n",
              "        text-align: right;\n",
              "    }\n",
              "</style>\n",
              "<table border=\"1\" class=\"dataframe\">\n",
              "  <thead>\n",
              "    <tr style=\"text-align: right;\">\n",
              "      <th></th>\n",
              "      <th>count</th>\n",
              "    </tr>\n",
              "    <tr>\n",
              "      <th>RemedyOptions</th>\n",
              "      <th></th>\n",
              "    </tr>\n",
              "  </thead>\n",
              "  <tbody>\n",
              "    <tr>\n",
              "      <th>[]</th>\n",
              "      <td>66</td>\n",
              "    </tr>\n",
              "    <tr>\n",
              "      <th>[{'Option': 'Repair'}]</th>\n",
              "      <td>9</td>\n",
              "    </tr>\n",
              "    <tr>\n",
              "      <th>[{'Option': 'Replace'}]</th>\n",
              "      <td>8</td>\n",
              "    </tr>\n",
              "    <tr>\n",
              "      <th>[{'Option': 'Refund'}]</th>\n",
              "      <td>5</td>\n",
              "    </tr>\n",
              "    <tr>\n",
              "      <th>[{'Option': 'Replace'}, {'Option': 'Refund'}]</th>\n",
              "      <td>1</td>\n",
              "    </tr>\n",
              "    <tr>\n",
              "      <th>[{'Option': 'Refund'}, {'Option': 'Repair'}]</th>\n",
              "      <td>1</td>\n",
              "    </tr>\n",
              "    <tr>\n",
              "      <th>[{'Option': 'New Instructions'}, {'Option': 'Repair'}]</th>\n",
              "      <td>1</td>\n",
              "    </tr>\n",
              "  </tbody>\n",
              "</table>\n",
              "</div><br><label><b>dtype:</b> int64</label>"
            ]
          },
          "metadata": {},
          "execution_count": 99
        }
      ]
    },
    {
      "cell_type": "code",
      "source": [
        "df = flatten_dictionary(df, 'RemedyOptions', 'UpdatedRemedy', 'Option')"
      ],
      "metadata": {
        "id": "52_flLoFpE0P"
      },
      "execution_count": 100,
      "outputs": []
    },
    {
      "cell_type": "code",
      "source": [
        "remedy_counts = df['UpdatedRemedy'].value_counts()\n",
        "print(remedy_counts)"
      ],
      "metadata": {
        "colab": {
          "base_uri": "https://localhost:8080/"
        },
        "id": "sC1sCWMqlrc5",
        "outputId": "aae16dab-2db9-4a5a-da3d-78f78a07c84c"
      },
      "execution_count": 101,
      "outputs": [
        {
          "output_type": "stream",
          "name": "stdout",
          "text": [
            "UpdatedRemedy\n",
            "                            66\n",
            "Repair                       9\n",
            "Replace                      8\n",
            "Refund                       5\n",
            "Replace, Refund              1\n",
            "Refund, Repair               1\n",
            "New Instructions, Repair     1\n",
            "Name: count, dtype: int64\n"
          ]
        }
      ]
    },
    {
      "cell_type": "code",
      "source": [
        "import matplotlib.pyplot as plt\n",
        "\n",
        "remedy_counts.plot(kind = 'bar')\n",
        "plt.title('Distribution of Remedy Options')\n",
        "plt.xlabel('Remedy Options')\n",
        "plt.ylabel('Count')\n",
        "plt.show()"
      ],
      "metadata": {
        "colab": {
          "base_uri": "https://localhost:8080/",
          "height": 627
        },
        "id": "Q82G4wPLl8dJ",
        "outputId": "ea26f909-5827-4b22-cff4-a22938c07a41"
      },
      "execution_count": 102,
      "outputs": [
        {
          "output_type": "display_data",
          "data": {
            "text/plain": [
              "<Figure size 640x480 with 1 Axes>"
            ],
            "image/png": "[encoded data removed]"
          },
          "metadata": {}
        }
      ]
    },
    {
      "cell_type": "code",
      "source": [
        "df['ManufacturerCountries'].value_counts()"
      ],
      "metadata": {
        "colab": {
          "base_uri": "https://localhost:8080/",
          "height": 460
        },
        "id": "vR6GkLowmVNy",
        "outputId": "e9d7847e-a15b-48c1-b047-49123b396b4f"
      },
      "execution_count": 103,
      "outputs": [
        {
          "output_type": "execute_result",
          "data": {
            "text/plain": [
              "ManufacturerCountries\n",
              "[{'Country': 'China'}]                                                         37\n",
              "[]                                                                             22\n",
              "[{'Country': 'United States'}]                                                 14\n",
              "[{'Country': 'Italy'}]                                                          5\n",
              "[{'Country': 'Taiwan'}]                                                         4\n",
              "[{'Country': 'China'}, {'Country': 'Taiwan'}]                                   3\n",
              "[{'Country': 'China'}, {'Country': 'Thailand'}]                                 2\n",
              "[{'Country': 'United States'}, {'Country': 'China'}]                            1\n",
              "[{'Country': 'China'}, {'Country': 'Taiwan'}, {'Country': 'United States'}]     1\n",
              "[{'Country': 'Malaysia'}]                                                       1\n",
              "[{'Country': 'China'}, {'Country': 'Taiwan'}, {'Country': 'Thailand'}]          1\n",
              "Name: count, dtype: int64"
            ],
            "text/html": [
              "<div>\n",
              "<style scoped>\n",
              "    .dataframe tbody tr th:only-of-type {\n",
              "        vertical-align: middle;\n",
              "    }\n",
              "\n",
              "    .dataframe tbody tr th {\n",
              "        vertical-align: top;\n",
              "    }\n",
              "\n",
              "    .dataframe thead th {\n",
              "        text-align: right;\n",
              "    }\n",
              "</style>\n",
              "<table border=\"1\" class=\"dataframe\">\n",
              "  <thead>\n",
              "    <tr style=\"text-align: right;\">\n",
              "      <th></th>\n",
              "      <th>count</th>\n",
              "    </tr>\n",
              "    <tr>\n",
              "      <th>ManufacturerCountries</th>\n",
              "      <th></th>\n",
              "    </tr>\n",
              "  </thead>\n",
              "  <tbody>\n",
              "    <tr>\n",
              "      <th>[{'Country': 'China'}]</th>\n",
              "      <td>37</td>\n",
              "    </tr>\n",
              "    <tr>\n",
              "      <th>[]</th>\n",
              "      <td>22</td>\n",
              "    </tr>\n",
              "    <tr>\n",
              "      <th>[{'Country': 'United States'}]</th>\n",
              "      <td>14</td>\n",
              "    </tr>\n",
              "    <tr>\n",
              "      <th>[{'Country': 'Italy'}]</th>\n",
              "      <td>5</td>\n",
              "    </tr>\n",
              "    <tr>\n",
              "      <th>[{'Country': 'Taiwan'}]</th>\n",
              "      <td>4</td>\n",
              "    </tr>\n",
              "    <tr>\n",
              "      <th>[{'Country': 'China'}, {'Country': 'Taiwan'}]</th>\n",
              "      <td>3</td>\n",
              "    </tr>\n",
              "    <tr>\n",
              "      <th>[{'Country': 'China'}, {'Country': 'Thailand'}]</th>\n",
              "      <td>2</td>\n",
              "    </tr>\n",
              "    <tr>\n",
              "      <th>[{'Country': 'United States'}, {'Country': 'China'}]</th>\n",
              "      <td>1</td>\n",
              "    </tr>\n",
              "    <tr>\n",
              "      <th>[{'Country': 'China'}, {'Country': 'Taiwan'}, {'Country': 'United States'}]</th>\n",
              "      <td>1</td>\n",
              "    </tr>\n",
              "    <tr>\n",
              "      <th>[{'Country': 'Malaysia'}]</th>\n",
              "      <td>1</td>\n",
              "    </tr>\n",
              "    <tr>\n",
              "      <th>[{'Country': 'China'}, {'Country': 'Taiwan'}, {'Country': 'Thailand'}]</th>\n",
              "      <td>1</td>\n",
              "    </tr>\n",
              "  </tbody>\n",
              "</table>\n",
              "</div><br><label><b>dtype:</b> int64</label>"
            ]
          },
          "metadata": {},
          "execution_count": 103
        }
      ]
    },
    {
      "cell_type": "code",
      "source": [
        "df = flatten_dictionary(df, 'ManufacturerCountries', 'UpdatedCountry', 'Country')"
      ],
      "metadata": {
        "id": "0oXJuughmfYy"
      },
      "execution_count": 104,
      "outputs": []
    },
    {
      "cell_type": "code",
      "source": [
        "country_counts = df['UpdatedCountry'].value_counts()\n",
        "print(country_counts)"
      ],
      "metadata": {
        "colab": {
          "base_uri": "https://localhost:8080/"
        },
        "id": "x4F0AwAHpTC4",
        "outputId": "f142aaa4-d6d2-4219-8c8a-5587bc18dd0f"
      },
      "execution_count": 105,
      "outputs": [
        {
          "output_type": "stream",
          "name": "stdout",
          "text": [
            "UpdatedCountry\n",
            "China                           37\n",
            "                                22\n",
            "United States                   14\n",
            "Italy                            5\n",
            "Taiwan                           4\n",
            "China, Taiwan                    3\n",
            "China, Thailand                  2\n",
            "United States, China             1\n",
            "China, Taiwan, United States     1\n",
            "Malaysia                         1\n",
            "China, Taiwan, Thailand          1\n",
            "Name: count, dtype: int64\n"
          ]
        }
      ]
    },
    {
      "cell_type": "code",
      "source": [
        "import matplotlib.pyplot as plt\n",
        "\n",
        "country_counts.plot(kind = 'bar')\n",
        "plt.title('Distribution of Manufacturer Country Counts')\n",
        "plt.xlabel('Country')\n",
        "plt.ylabel('Count')\n",
        "plt.show()"
      ],
      "metadata": {
        "colab": {
          "base_uri": "https://localhost:8080/",
          "height": 656
        },
        "id": "KQ1iWwbUpbP5",
        "outputId": "fecd647c-202d-4153-85ef-cfdbd5fe34fa"
      },
      "execution_count": 106,
      "outputs": [
        {
          "output_type": "display_data",
          "data": {
            "text/plain": [
              "<Figure size 640x480 with 1 Axes>"
            ],
            "image/png": "[encoded data removed]"
          },
          "metadata": {}
        }
      ]
    },
    {
      "cell_type": "markdown",
      "metadata": {
        "id": "glTQ8P7ggGP_"
      },
      "source": [
        "## Dashboarding the Results (Optional)\n",
        "\n",
        "To complete the pipeline from data to product, we can use \\texttt{streamlit} to quickly convert Python code into a web page that can be accessed locally. This can be done with essentially three lines of code: An import statement, a $.title()$ method call to set the page title, and an $.write()$ call to push the results to the page. Although relatively static, completing this step serves a pedogogical and psychological purpose: It pivots the students to thinking about how to communicate results to an audience, and how the project could become an ongoing endeavor rather than a single analytical exercise.\n",
        "\n",
        "The entire .py file to create the dashboard is\n",
        "\n",
        "    import pandas as pd\n",
        "    import requests\n",
        "    import streamlit as st\n",
        "    # Conduct analysis:\n",
        "    url = 'https://www.saferproducts.gov/RestWebServices/Recall'\n",
        "    query = '?format=json&RecallTitle=Gas'\n",
        "    header = {'User-Agent':\n",
        "              'Mozilla/5.0 (Windows NT 10.0; Win64; x64; rv:124.0) Gecko/20100101 Firefox/124.0'}\n",
        "    raw = requests.get(url+query,headers=header)\n",
        "    data = raw.json()\n",
        "    df = pd.DataFrame.from_dict(data)\n",
        "    temp = df['RemedyOptions']\n",
        "    clean_values = []\n",
        "    for i in range(len(temp)):\n",
        "        if len(temp[i])>0:\n",
        "            values = []\n",
        "            for j in range(len(temp[i])):\n",
        "                values.append(temp[i][j]['Option'] )\n",
        "            clean_values.append(values)\n",
        "        else:\n",
        "            clean_values.append('')\n",
        "    df['remedy'] = clean_values\n",
        "    remedy_counts = df['remedy'].value_counts()\n",
        "    # Create streamlit output:\n",
        "    st.title('Remedy Statistics')\n",
        "    st.write(remedy_counts)\n",
        "\n",
        "To create the web page, run the following at the command line:\n",
        "\n",
        "    streamlit run remedy.py\n",
        "\n",
        "This should convert the above analysis into a web page available from localhost.\n",
        "\n",
        "**4. Produce your own table or plot, and output it to streamlit.**"
      ]
    },
    {
      "cell_type": "markdown",
      "metadata": {
        "id": "1ogbrOZYgGP_"
      },
      "source": [
        "## Other API Sources\n",
        "\n",
        "Valuable and interesting Federal API resources are listed at:\n",
        "\n",
        "    https://catalog.data.gov/dataset/?_res_format_limit=0&res_format=API\n",
        "\n",
        "and in the future will likely easily be found at \\texttt{data.gov}. Some highlights include:\n",
        "\n",
        "- CDC WONDER API for Data Query Web Service: Includes death certificates with causes since approximately the 1990's.\n",
        "- Comprehensive Housing Affordability Strategy (CHAS): Housing and Urban Development (HUD) maintains an API that provides Census data on housing problems and needs unavailable through other sources, including IPUMS.\n",
        "- Federal Election Commission API: Provides historical and up to the minute campaign finance data.\n",
        "- Toxic Release Inventory: Provided by the Environmental Protection Agency, this API documents the release and management of over 800 toxic substances, reported annually by privately owned facilities and the government.\n",
        "- Petroleum Data, Prices: Provides prices of petroleum products and crude oil at weekly, monthly, and yearly time scales.\n",
        "- Fair Market Rents Lookup tool: Fair Market Rents (FMRs) determine the value of housing vouchers for Section 8 renters. This API provides the FMR values and other measures of housing affordability.\n",
        "- Annual Economic Surveys, Business Patterns: Surveys of businesses at the zip code level, tracking economic sentiment and activity.\n",
        "- Food Access Research Atlas: Provides spatial data on food access and the availability of supermarkets within census tracts. Can be merged with census data to look at under-served populations and food deserts.\n",
        "- National Oceanographic and Atmospheric Administration: Provides API access to data on real time weather and climate change projections.\n",
        "\n",
        "Each of these API resources could either be the cornerstone of a project or a source of additional data. These data sources have a number of advantages: They're free, most of them can be accessed using the same API key, and most have similar documentation for how to write a query. This is ideal for students to iterate, experiment, and take risks, with little cost to failure.\n",
        "\n",
        "In addition to government data, many commerical apps provide API access to developers and researchers. AirBnB, Amazon, Reddit, eBay, X, and many others maintain API access to develop third-party apps. These opportunities present many advantages: The data are larger, have more variety, and there are vastly many more cases. Building a third-party app that includes analytics could easily consume an entire semester and open a variety of applications in predictive analytics, natural language processing, and generative AI (e.g. predict which reviews are fake or real for Amazon for a product group like ``women's watches', and then make recommendations for different price points). While an exciting possibility, this can also raise a lot of problems: Some API's cost money or are rate-limited depending on a subscription, and others impose significant constraints on how the data can be used. In some cases, a more useful approach might be explicit web scraping using a package like BeautifulSoup or Selenium. For example, Craigslist has no API, but can easily and productively be scraped using BeautifulSoup.\n",
        "\n",
        "**5. Pick an API, download some data, wrangle them, and produce some EDA results, as we did in the previous steps with the saferproducts.gov API; or, if you can't get it to work, document why. If you have the time and it's low cost, push the results to a streamlit page. If you have had enough, I recommend https://www.eia.gov/opendata/browser/electricity, since there is a friendly query builder that you can use to learn.**"
      ]
    },
    {
      "cell_type": "code",
      "source": [
        "import pandas as pd\n",
        "import requests\n",
        "import urllib.request\n",
        "import json\n",
        "# Conduct analysis:\n",
        "url = 'https://api.eia.gov/v2/electricity/retail-sales/data/'\n",
        "api_key = '?api_key=8kH2MzByBaXD1pLCp58kjCale7mJveJOmIudZuZI'\n",
        "query = '&frequency=monthly&data[0]=customers&data[1]=price&data[2]=revenue&data[3]=sales&start=2023-01&end=2023-12&sort[0][column]=period&sort[0][direction]=desc&offset=0&length=5000'\n"
      ],
      "metadata": {
        "id": "ULZuHNpdi212"
      },
      "execution_count": 107,
      "outputs": []
    },
    {
      "cell_type": "code",
      "source": [
        "response = urllib.request.urlopen(url+api_key+query)\n",
        "response_bytes = response.read()\n",
        "data = json.loads(response_bytes)\n",
        "response.close()"
      ],
      "metadata": {
        "id": "MNV63fp-jqYd"
      },
      "execution_count": 108,
      "outputs": []
    },
    {
      "cell_type": "code",
      "source": [
        "df = pd.DataFrame.from_dict(data)"
      ],
      "metadata": {
        "id": "f82dKqz6jrSk"
      },
      "execution_count": 109,
      "outputs": []
    },
    {
      "cell_type": "code",
      "source": [
        "df.head()"
      ],
      "metadata": {
        "id": "RWyA82_clft3",
        "outputId": "8fa52d54-542a-467b-8d4d-b2d808c69fe7",
        "colab": {
          "base_uri": "https://localhost:8080/",
          "height": 206
        }
      },
      "execution_count": 110,
      "outputs": [
        {
          "output_type": "execute_result",
          "data": {
            "text/plain": [
              "                                                      response request  \\\n",
              "total                                                     4464     NaN   \n",
              "dateFormat                                             YYYY-MM     NaN   \n",
              "frequency                                              monthly     NaN   \n",
              "data         [{'period': '2023-12', 'stateid': 'SC', 'state...     NaN   \n",
              "description  Electricity sales to ultimate customer by stat...     NaN   \n",
              "\n",
              "            apiVersion ExcelAddInVersion  \n",
              "total            2.1.7             2.1.0  \n",
              "dateFormat       2.1.7             2.1.0  \n",
              "frequency        2.1.7             2.1.0  \n",
              "data             2.1.7             2.1.0  \n",
              "description      2.1.7             2.1.0  "
            ],
            "text/html": [
              "\n",
              "  <div id=\"df-3a4b35a1-fe4a-4943-8cfd-c9dbcd41ee4f\" class=\"colab-df-container\">\n",
              "    <div>\n",
              "<style scoped>\n",
              "    .dataframe tbody tr th:only-of-type {\n",
              "        vertical-align: middle;\n",
              "    }\n",
              "\n",
              "    .dataframe tbody tr th {\n",
              "        vertical-align: top;\n",
              "    }\n",
              "\n",
              "    .dataframe thead th {\n",
              "        text-align: right;\n",
              "    }\n",
              "</style>\n",
              "<table border=\"1\" class=\"dataframe\">\n",
              "  <thead>\n",
              "    <tr style=\"text-align: right;\">\n",
              "      <th></th>\n",
              "      <th>response</th>\n",
              "      <th>request</th>\n",
              "      <th>apiVersion</th>\n",
              "      <th>ExcelAddInVersion</th>\n",
              "    </tr>\n",
              "  </thead>\n",
              "  <tbody>\n",
              "    <tr>\n",
              "      <th>total</th>\n",
              "      <td>4464</td>\n",
              "      <td>NaN</td>\n",
              "      <td>2.1.7</td>\n",
              "      <td>2.1.0</td>\n",
              "    </tr>\n",
              "    <tr>\n",
              "      <th>dateFormat</th>\n",
              "      <td>YYYY-MM</td>\n",
              "      <td>NaN</td>\n",
              "      <td>2.1.7</td>\n",
              "      <td>2.1.0</td>\n",
              "    </tr>\n",
              "    <tr>\n",
              "      <th>frequency</th>\n",
              "      <td>monthly</td>\n",
              "      <td>NaN</td>\n",
              "      <td>2.1.7</td>\n",
              "      <td>2.1.0</td>\n",
              "    </tr>\n",
              "    <tr>\n",
              "      <th>data</th>\n",
              "      <td>[{'period': '2023-12', 'stateid': 'SC', 'state...</td>\n",
              "      <td>NaN</td>\n",
              "      <td>2.1.7</td>\n",
              "      <td>2.1.0</td>\n",
              "    </tr>\n",
              "    <tr>\n",
              "      <th>description</th>\n",
              "      <td>Electricity sales to ultimate customer by stat...</td>\n",
              "      <td>NaN</td>\n",
              "      <td>2.1.7</td>\n",
              "      <td>2.1.0</td>\n",
              "    </tr>\n",
              "  </tbody>\n",
              "</table>\n",
              "</div>\n",
              "    <div class=\"colab-df-buttons\">\n",
              "\n",
              "  <div class=\"colab-df-container\">\n",
              "    <button class=\"colab-df-convert\" onclick=\"convertToInteractive('df-3a4b35a1-fe4a-4943-8cfd-c9dbcd41ee4f')\"\n",
              "            title=\"Convert this dataframe to an interactive table.\"\n",
              "            style=\"display:none;\">\n",
              "\n",
              "  <svg xmlns=\"http://www.w3.org/2000/svg\" height=\"24px\" viewBox=\"0 -960 960 960\">\n",
              "    <path d=\"M120-120v-720h720v720H120Zm60-500h600v-160H180v160Zm220 220h160v-160H400v160Zm0 220h160v-160H400v160ZM180-400h160v-160H180v160Zm440 0h160v-160H620v160ZM180-180h160v-160H180v160Zm440 0h160v-160H620v160Z\"/>\n",
              "  </svg>\n",
              "    </button>\n",
              "\n",
              "  <style>\n",
              "    .colab-df-container {\n",
              "      display:flex;\n",
              "      gap: 12px;\n",
              "    }\n",
              "\n",
              "    .colab-df-convert {\n",
              "      background-color: #E8F0FE;\n",
              "      border: none;\n",
              "      border-radius: 50%;\n",
              "      cursor: pointer;\n",
              "      display: none;\n",
              "      fill: #1967D2;\n",
              "      height: 32px;\n",
              "      padding: 0 0 0 0;\n",
              "      width: 32px;\n",
              "    }\n",
              "\n",
              "    .colab-df-convert:hover {\n",
              "      background-color: #E2EBFA;\n",
              "      box-shadow: 0px 1px 2px rgba(60, 64, 67, 0.3), 0px 1px 3px 1px rgba(60, 64, 67, 0.15);\n",
              "      fill: #174EA6;\n",
              "    }\n",
              "\n",
              "    .colab-df-buttons div {\n",
              "      margin-bottom: 4px;\n",
              "    }\n",
              "\n",
              "    [theme=dark] .colab-df-convert {\n",
              "      background-color: #3B4455;\n",
              "      fill: #D2E3FC;\n",
              "    }\n",
              "\n",
              "    [theme=dark] .colab-df-convert:hover {\n",
              "      background-color: #434B5C;\n",
              "      box-shadow: 0px 1px 3px 1px rgba(0, 0, 0, 0.15);\n",
              "      filter: drop-shadow(0px 1px 2px rgba(0, 0, 0, 0.3));\n",
              "      fill: #FFFFFF;\n",
              "    }\n",
              "  </style>\n",
              "\n",
              "    <script>\n",
              "      const buttonEl =\n",
              "        document.querySelector('#df-3a4b35a1-fe4a-4943-8cfd-c9dbcd41ee4f button.colab-df-convert');\n",
              "      buttonEl.style.display =\n",
              "        google.colab.kernel.accessAllowed ? 'block' : 'none';\n",
              "\n",
              "      async function convertToInteractive(key) {\n",
              "        const element = document.querySelector('#df-3a4b35a1-fe4a-4943-8cfd-c9dbcd41ee4f');\n",
              "        const dataTable =\n",
              "          await google.colab.kernel.invokeFunction('convertToInteractive',\n",
              "                                                    [key], {});\n",
              "        if (!dataTable) return;\n",
              "\n",
              "        const docLinkHtml = 'Like what you see? Visit the ' +\n",
              "          '<a target=\"_blank\" href=https://colab.research.google.com/notebooks/data_table.ipynb>data table notebook</a>'\n",
              "          + ' to learn more about interactive tables.';\n",
              "        element.innerHTML = '';\n",
              "        dataTable['output_type'] = 'display_data';\n",
              "        await google.colab.output.renderOutput(dataTable, element);\n",
              "        const docLink = document.createElement('div');\n",
              "        docLink.innerHTML = docLinkHtml;\n",
              "        element.appendChild(docLink);\n",
              "      }\n",
              "    </script>\n",
              "  </div>\n",
              "\n",
              "\n",
              "<div id=\"df-ddc77d77-e4bb-4731-81e0-b6b4dc5fdae5\">\n",
              "  <button class=\"colab-df-quickchart\" onclick=\"quickchart('df-ddc77d77-e4bb-4731-81e0-b6b4dc5fdae5')\"\n",
              "            title=\"Suggest charts\"\n",
              "            style=\"display:none;\">\n",
              "\n",
              "<svg xmlns=\"http://www.w3.org/2000/svg\" height=\"24px\"viewBox=\"0 0 24 24\"\n",
              "     width=\"24px\">\n",
              "    <g>\n",
              "        <path d=\"M19 3H5c-1.1 0-2 .9-2 2v14c0 1.1.9 2 2 2h14c1.1 0 2-.9 2-2V5c0-1.1-.9-2-2-2zM9 17H7v-7h2v7zm4 0h-2V7h2v10zm4 0h-2v-4h2v4z\"/>\n",
              "    </g>\n",
              "</svg>\n",
              "  </button>\n",
              "\n",
              "<style>\n",
              "  .colab-df-quickchart {\n",
              "      --bg-color: #E8F0FE;\n",
              "      --fill-color: #1967D2;\n",
              "      --hover-bg-color: #E2EBFA;\n",
              "      --hover-fill-color: #174EA6;\n",
              "      --disabled-fill-color: #AAA;\n",
              "      --disabled-bg-color: #DDD;\n",
              "  }\n",
              "\n",
              "  [theme=dark] .colab-df-quickchart {\n",
              "      --bg-color: #3B4455;\n",
              "      --fill-color: #D2E3FC;\n",
              "      --hover-bg-color: #434B5C;\n",
              "      --hover-fill-color: #FFFFFF;\n",
              "      --disabled-bg-color: #3B4455;\n",
              "      --disabled-fill-color: #666;\n",
              "  }\n",
              "\n",
              "  .colab-df-quickchart {\n",
              "    background-color: var(--bg-color);\n",
              "    border: none;\n",
              "    border-radius: 50%;\n",
              "    cursor: pointer;\n",
              "    display: none;\n",
              "    fill: var(--fill-color);\n",
              "    height: 32px;\n",
              "    padding: 0;\n",
              "    width: 32px;\n",
              "  }\n",
              "\n",
              "  .colab-df-quickchart:hover {\n",
              "    background-color: var(--hover-bg-color);\n",
              "    box-shadow: 0 1px 2px rgba(60, 64, 67, 0.3), 0 1px 3px 1px rgba(60, 64, 67, 0.15);\n",
              "    fill: var(--button-hover-fill-color);\n",
              "  }\n",
              "\n",
              "  .colab-df-quickchart-complete:disabled,\n",
              "  .colab-df-quickchart-complete:disabled:hover {\n",
              "    background-color: var(--disabled-bg-color);\n",
              "    fill: var(--disabled-fill-color);\n",
              "    box-shadow: none;\n",
              "  }\n",
              "\n",
              "  .colab-df-spinner {\n",
              "    border: 2px solid var(--fill-color);\n",
              "    border-color: transparent;\n",
              "    border-bottom-color: var(--fill-color);\n",
              "    animation:\n",
              "      spin 1s steps(1) infinite;\n",
              "  }\n",
              "\n",
              "  @keyframes spin {\n",
              "    0% {\n",
              "      border-color: transparent;\n",
              "      border-bottom-color: var(--fill-color);\n",
              "      border-left-color: var(--fill-color);\n",
              "    }\n",
              "    20% {\n",
              "      border-color: transparent;\n",
              "      border-left-color: var(--fill-color);\n",
              "      border-top-color: var(--fill-color);\n",
              "    }\n",
              "    30% {\n",
              "      border-color: transparent;\n",
              "      border-left-color: var(--fill-color);\n",
              "      border-top-color: var(--fill-color);\n",
              "      border-right-color: var(--fill-color);\n",
              "    }\n",
              "    40% {\n",
              "      border-color: transparent;\n",
              "      border-right-color: var(--fill-color);\n",
              "      border-top-color: var(--fill-color);\n",
              "    }\n",
              "    60% {\n",
              "      border-color: transparent;\n",
              "      border-right-color: var(--fill-color);\n",
              "    }\n",
              "    80% {\n",
              "      border-color: transparent;\n",
              "      border-right-color: var(--fill-color);\n",
              "      border-bottom-color: var(--fill-color);\n",
              "    }\n",
              "    90% {\n",
              "      border-color: transparent;\n",
              "      border-bottom-color: var(--fill-color);\n",
              "    }\n",
              "  }\n",
              "</style>\n",
              "\n",
              "  <script>\n",
              "    async function quickchart(key) {\n",
              "      const quickchartButtonEl =\n",
              "        document.querySelector('#' + key + ' button');\n",
              "      quickchartButtonEl.disabled = true;  // To prevent multiple clicks.\n",
              "      quickchartButtonEl.classList.add('colab-df-spinner');\n",
              "      try {\n",
              "        const charts = await google.colab.kernel.invokeFunction(\n",
              "            'suggestCharts', [key], {});\n",
              "      } catch (error) {\n",
              "        console.error('Error during call to suggestCharts:', error);\n",
              "      }\n",
              "      quickchartButtonEl.classList.remove('colab-df-spinner');\n",
              "      quickchartButtonEl.classList.add('colab-df-quickchart-complete');\n",
              "    }\n",
              "    (() => {\n",
              "      let quickchartButtonEl =\n",
              "        document.querySelector('#df-ddc77d77-e4bb-4731-81e0-b6b4dc5fdae5 button');\n",
              "      quickchartButtonEl.style.display =\n",
              "        google.colab.kernel.accessAllowed ? 'block' : 'none';\n",
              "    })();\n",
              "  </script>\n",
              "</div>\n",
              "\n",
              "    </div>\n",
              "  </div>\n"
            ],
            "application/vnd.google.colaboratory.intrinsic+json": {
              "type": "dataframe",
              "variable_name": "df",
              "summary": "{\n  \"name\": \"df\",\n  \"rows\": 7,\n  \"fields\": [\n    {\n      \"column\": \"response\",\n      \"properties\": {\n        \"dtype\": \"object\",\n        \"semantic_type\": \"\",\n        \"description\": \"\"\n      }\n    },\n    {\n      \"column\": \"request\",\n      \"properties\": {\n        \"dtype\": \"object\",\n        \"semantic_type\": \"\",\n        \"description\": \"\"\n      }\n    },\n    {\n      \"column\": \"apiVersion\",\n      \"properties\": {\n        \"dtype\": \"object\",\n        \"num_unique_values\": 1,\n        \"samples\": [\n          \"2.1.7\"\n        ],\n        \"semantic_type\": \"\",\n        \"description\": \"\"\n      }\n    },\n    {\n      \"column\": \"ExcelAddInVersion\",\n      \"properties\": {\n        \"dtype\": \"object\",\n        \"num_unique_values\": 1,\n        \"samples\": [\n          \"2.1.0\"\n        ],\n        \"semantic_type\": \"\",\n        \"description\": \"\"\n      }\n    }\n  ]\n}"
            }
          },
          "metadata": {},
          "execution_count": 110
        }
      ]
    },
    {
      "cell_type": "code",
      "source": [
        "relevant_info = df.iloc[3, 0]"
      ],
      "metadata": {
        "id": "0pf6hTeAlUa8"
      },
      "execution_count": 111,
      "outputs": []
    },
    {
      "cell_type": "code",
      "source": [
        "for item in relevant_info[:5]:\n",
        "  print(item)"
      ],
      "metadata": {
        "colab": {
          "base_uri": "https://localhost:8080/"
        },
        "id": "HRyyDAoSsJME",
        "outputId": "301a386d-e8ae-48a1-ed3c-389c6046896d"
      },
      "execution_count": 112,
      "outputs": [
        {
          "output_type": "stream",
          "name": "stdout",
          "text": [
            "{'period': '2023-12', 'stateid': 'SC', 'stateDescription': 'South Carolina', 'sectorid': 'RES', 'sectorName': 'residential', 'customers': '2542771', 'price': '13.61', 'revenue': '376.05598', 'sales': '2762.47753', 'customers-units': 'number of customers', 'price-units': 'cents per kilowatthour', 'revenue-units': 'million dollars', 'sales-units': 'million kilowatthours'}\n",
            "{'period': '2023-12', 'stateid': 'AL', 'stateDescription': 'Alabama', 'sectorid': 'ALL', 'sectorName': 'all sectors', 'customers': '2757183', 'price': '11.21', 'revenue': '784.13744', 'sales': '6997.08197', 'customers-units': 'number of customers', 'price-units': 'cents per kilowatthour', 'revenue-units': 'million dollars', 'sales-units': 'million kilowatthours'}\n",
            "{'period': '2023-12', 'stateid': 'KY', 'stateDescription': 'Kentucky', 'sectorid': 'OTH', 'sectorName': 'other', 'customers': None, 'price': None, 'revenue': None, 'sales': None, 'customers-units': 'number of customers', 'price-units': 'cents per kilowatthour', 'revenue-units': 'million dollars', 'sales-units': 'million kilowatthours'}\n",
            "{'period': '2023-12', 'stateid': 'KY', 'stateDescription': 'Kentucky', 'sectorid': 'IND', 'sectorName': 'industrial', 'customers': '5767', 'price': '6.47', 'revenue': '137.66463', 'sales': '2129.2623', 'customers-units': 'number of customers', 'price-units': 'cents per kilowatthour', 'revenue-units': 'million dollars', 'sales-units': 'million kilowatthours'}\n",
            "{'period': '2023-12', 'stateid': 'KY', 'stateDescription': 'Kentucky', 'sectorid': 'COM', 'sectorName': 'commercial', 'customers': '324092', 'price': '11.65', 'revenue': '169.51548', 'sales': '1454.48685', 'customers-units': 'number of customers', 'price-units': 'cents per kilowatthour', 'revenue-units': 'million dollars', 'sales-units': 'million kilowatthours'}\n"
          ]
        }
      ]
    },
    {
      "cell_type": "code",
      "source": [
        "df_electricity = pd.DataFrame.from_dict(relevant_info)"
      ],
      "metadata": {
        "id": "KDpaoOlUtfmE"
      },
      "execution_count": 113,
      "outputs": []
    },
    {
      "cell_type": "code",
      "source": [
        "df_electricity.head()"
      ],
      "metadata": {
        "colab": {
          "base_uri": "https://localhost:8080/",
          "height": 330
        },
        "id": "ci_i_Mastq9d",
        "outputId": "927e6b9e-07d7-4986-8211-f8fcf7dccef6"
      },
      "execution_count": 114,
      "outputs": [
        {
          "output_type": "execute_result",
          "data": {
            "text/plain": [
              "    period stateid stateDescription sectorid   sectorName customers  price  \\\n",
              "0  2023-12      SC   South Carolina      RES  residential   2542771  13.61   \n",
              "1  2023-12      AL          Alabama      ALL  all sectors   2757183  11.21   \n",
              "2  2023-12      KY         Kentucky      OTH        other      None   None   \n",
              "3  2023-12      KY         Kentucky      IND   industrial      5767   6.47   \n",
              "4  2023-12      KY         Kentucky      COM   commercial    324092  11.65   \n",
              "\n",
              "     revenue       sales      customers-units             price-units  \\\n",
              "0  376.05598  2762.47753  number of customers  cents per kilowatthour   \n",
              "1  784.13744  6997.08197  number of customers  cents per kilowatthour   \n",
              "2       None        None  number of customers  cents per kilowatthour   \n",
              "3  137.66463   2129.2623  number of customers  cents per kilowatthour   \n",
              "4  169.51548  1454.48685  number of customers  cents per kilowatthour   \n",
              "\n",
              "     revenue-units            sales-units  \n",
              "0  million dollars  million kilowatthours  \n",
              "1  million dollars  million kilowatthours  \n",
              "2  million dollars  million kilowatthours  \n",
              "3  million dollars  million kilowatthours  \n",
              "4  million dollars  million kilowatthours  "
            ],
            "text/html": [
              "\n",
              "  <div id=\"df-8521e810-ccca-418c-8c58-243f3c20510c\" class=\"colab-df-container\">\n",
              "    <div>\n",
              "<style scoped>\n",
              "    .dataframe tbody tr th:only-of-type {\n",
              "        vertical-align: middle;\n",
              "    }\n",
              "\n",
              "    .dataframe tbody tr th {\n",
              "        vertical-align: top;\n",
              "    }\n",
              "\n",
              "    .dataframe thead th {\n",
              "        text-align: right;\n",
              "    }\n",
              "</style>\n",
              "<table border=\"1\" class=\"dataframe\">\n",
              "  <thead>\n",
              "    <tr style=\"text-align: right;\">\n",
              "      <th></th>\n",
              "      <th>period</th>\n",
              "      <th>stateid</th>\n",
              "      <th>stateDescription</th>\n",
              "      <th>sectorid</th>\n",
              "      <th>sectorName</th>\n",
              "      <th>customers</th>\n",
              "      <th>price</th>\n",
              "      <th>revenue</th>\n",
              "      <th>sales</th>\n",
              "      <th>customers-units</th>\n",
              "      <th>price-units</th>\n",
              "      <th>revenue-units</th>\n",
              "      <th>sales-units</th>\n",
              "    </tr>\n",
              "  </thead>\n",
              "  <tbody>\n",
              "    <tr>\n",
              "      <th>0</th>\n",
              "      <td>2023-12</td>\n",
              "      <td>SC</td>\n",
              "      <td>South Carolina</td>\n",
              "      <td>RES</td>\n",
              "      <td>residential</td>\n",
              "      <td>2542771</td>\n",
              "      <td>13.61</td>\n",
              "      <td>376.05598</td>\n",
              "      <td>2762.47753</td>\n",
              "      <td>number of customers</td>\n",
              "      <td>cents per kilowatthour</td>\n",
              "      <td>million dollars</td>\n",
              "      <td>million kilowatthours</td>\n",
              "    </tr>\n",
              "    <tr>\n",
              "      <th>1</th>\n",
              "      <td>2023-12</td>\n",
              "      <td>AL</td>\n",
              "      <td>Alabama</td>\n",
              "      <td>ALL</td>\n",
              "      <td>all sectors</td>\n",
              "      <td>2757183</td>\n",
              "      <td>11.21</td>\n",
              "      <td>784.13744</td>\n",
              "      <td>6997.08197</td>\n",
              "      <td>number of customers</td>\n",
              "      <td>cents per kilowatthour</td>\n",
              "      <td>million dollars</td>\n",
              "      <td>million kilowatthours</td>\n",
              "    </tr>\n",
              "    <tr>\n",
              "      <th>2</th>\n",
              "      <td>2023-12</td>\n",
              "      <td>KY</td>\n",
              "      <td>Kentucky</td>\n",
              "      <td>OTH</td>\n",
              "      <td>other</td>\n",
              "      <td>None</td>\n",
              "      <td>None</td>\n",
              "      <td>None</td>\n",
              "      <td>None</td>\n",
              "      <td>number of customers</td>\n",
              "      <td>cents per kilowatthour</td>\n",
              "      <td>million dollars</td>\n",
              "      <td>million kilowatthours</td>\n",
              "    </tr>\n",
              "    <tr>\n",
              "      <th>3</th>\n",
              "      <td>2023-12</td>\n",
              "      <td>KY</td>\n",
              "      <td>Kentucky</td>\n",
              "      <td>IND</td>\n",
              "      <td>industrial</td>\n",
              "      <td>5767</td>\n",
              "      <td>6.47</td>\n",
              "      <td>137.66463</td>\n",
              "      <td>2129.2623</td>\n",
              "      <td>number of customers</td>\n",
              "      <td>cents per kilowatthour</td>\n",
              "      <td>million dollars</td>\n",
              "      <td>million kilowatthours</td>\n",
              "    </tr>\n",
              "    <tr>\n",
              "      <th>4</th>\n",
              "      <td>2023-12</td>\n",
              "      <td>KY</td>\n",
              "      <td>Kentucky</td>\n",
              "      <td>COM</td>\n",
              "      <td>commercial</td>\n",
              "      <td>324092</td>\n",
              "      <td>11.65</td>\n",
              "      <td>169.51548</td>\n",
              "      <td>1454.48685</td>\n",
              "      <td>number of customers</td>\n",
              "      <td>cents per kilowatthour</td>\n",
              "      <td>million dollars</td>\n",
              "      <td>million kilowatthours</td>\n",
              "    </tr>\n",
              "  </tbody>\n",
              "</table>\n",
              "</div>\n",
              "    <div class=\"colab-df-buttons\">\n",
              "\n",
              "  <div class=\"colab-df-container\">\n",
              "    <button class=\"colab-df-convert\" onclick=\"convertToInteractive('df-8521e810-ccca-418c-8c58-243f3c20510c')\"\n",
              "            title=\"Convert this dataframe to an interactive table.\"\n",
              "            style=\"display:none;\">\n",
              "\n",
              "  <svg xmlns=\"http://www.w3.org/2000/svg\" height=\"24px\" viewBox=\"0 -960 960 960\">\n",
              "    <path d=\"M120-120v-720h720v720H120Zm60-500h600v-160H180v160Zm220 220h160v-160H400v160Zm0 220h160v-160H400v160ZM180-400h160v-160H180v160Zm440 0h160v-160H620v160ZM180-180h160v-160H180v160Zm440 0h160v-160H620v160Z\"/>\n",
              "  </svg>\n",
              "    </button>\n",
              "\n",
              "  <style>\n",
              "    .colab-df-container {\n",
              "      display:flex;\n",
              "      gap: 12px;\n",
              "    }\n",
              "\n",
              "    .colab-df-convert {\n",
              "      background-color: #E8F0FE;\n",
              "      border: none;\n",
              "      border-radius: 50%;\n",
              "      cursor: pointer;\n",
              "      display: none;\n",
              "      fill: #1967D2;\n",
              "      height: 32px;\n",
              "      padding: 0 0 0 0;\n",
              "      width: 32px;\n",
              "    }\n",
              "\n",
              "    .colab-df-convert:hover {\n",
              "      background-color: #E2EBFA;\n",
              "      box-shadow: 0px 1px 2px rgba(60, 64, 67, 0.3), 0px 1px 3px 1px rgba(60, 64, 67, 0.15);\n",
              "      fill: #174EA6;\n",
              "    }\n",
              "\n",
              "    .colab-df-buttons div {\n",
              "      margin-bottom: 4px;\n",
              "    }\n",
              "\n",
              "    [theme=dark] .colab-df-convert {\n",
              "      background-color: #3B4455;\n",
              "      fill: #D2E3FC;\n",
              "    }\n",
              "\n",
              "    [theme=dark] .colab-df-convert:hover {\n",
              "      background-color: #434B5C;\n",
              "      box-shadow: 0px 1px 3px 1px rgba(0, 0, 0, 0.15);\n",
              "      filter: drop-shadow(0px 1px 2px rgba(0, 0, 0, 0.3));\n",
              "      fill: #FFFFFF;\n",
              "    }\n",
              "  </style>\n",
              "\n",
              "    <script>\n",
              "      const buttonEl =\n",
              "        document.querySelector('#df-8521e810-ccca-418c-8c58-243f3c20510c button.colab-df-convert');\n",
              "      buttonEl.style.display =\n",
              "        google.colab.kernel.accessAllowed ? 'block' : 'none';\n",
              "\n",
              "      async function convertToInteractive(key) {\n",
              "        const element = document.querySelector('#df-8521e810-ccca-418c-8c58-243f3c20510c');\n",
              "        const dataTable =\n",
              "          await google.colab.kernel.invokeFunction('convertToInteractive',\n",
              "                                                    [key], {});\n",
              "        if (!dataTable) return;\n",
              "\n",
              "        const docLinkHtml = 'Like what you see? Visit the ' +\n",
              "          '<a target=\"_blank\" href=https://colab.research.google.com/notebooks/data_table.ipynb>data table notebook</a>'\n",
              "          + ' to learn more about interactive tables.';\n",
              "        element.innerHTML = '';\n",
              "        dataTable['output_type'] = 'display_data';\n",
              "        await google.colab.output.renderOutput(dataTable, element);\n",
              "        const docLink = document.createElement('div');\n",
              "        docLink.innerHTML = docLinkHtml;\n",
              "        element.appendChild(docLink);\n",
              "      }\n",
              "    </script>\n",
              "  </div>\n",
              "\n",
              "\n",
              "<div id=\"df-3bdb2202-666e-4a4f-97dd-2d0b351dd439\">\n",
              "  <button class=\"colab-df-quickchart\" onclick=\"quickchart('df-3bdb2202-666e-4a4f-97dd-2d0b351dd439')\"\n",
              "            title=\"Suggest charts\"\n",
              "            style=\"display:none;\">\n",
              "\n",
              "<svg xmlns=\"http://www.w3.org/2000/svg\" height=\"24px\"viewBox=\"0 0 24 24\"\n",
              "     width=\"24px\">\n",
              "    <g>\n",
              "        <path d=\"M19 3H5c-1.1 0-2 .9-2 2v14c0 1.1.9 2 2 2h14c1.1 0 2-.9 2-2V5c0-1.1-.9-2-2-2zM9 17H7v-7h2v7zm4 0h-2V7h2v10zm4 0h-2v-4h2v4z\"/>\n",
              "    </g>\n",
              "</svg>\n",
              "  </button>\n",
              "\n",
              "<style>\n",
              "  .colab-df-quickchart {\n",
              "      --bg-color: #E8F0FE;\n",
              "      --fill-color: #1967D2;\n",
              "      --hover-bg-color: #E2EBFA;\n",
              "      --hover-fill-color: #174EA6;\n",
              "      --disabled-fill-color: #AAA;\n",
              "      --disabled-bg-color: #DDD;\n",
              "  }\n",
              "\n",
              "  [theme=dark] .colab-df-quickchart {\n",
              "      --bg-color: #3B4455;\n",
              "      --fill-color: #D2E3FC;\n",
              "      --hover-bg-color: #434B5C;\n",
              "      --hover-fill-color: #FFFFFF;\n",
              "      --disabled-bg-color: #3B4455;\n",
              "      --disabled-fill-color: #666;\n",
              "  }\n",
              "\n",
              "  .colab-df-quickchart {\n",
              "    background-color: var(--bg-color);\n",
              "    border: none;\n",
              "    border-radius: 50%;\n",
              "    cursor: pointer;\n",
              "    display: none;\n",
              "    fill: var(--fill-color);\n",
              "    height: 32px;\n",
              "    padding: 0;\n",
              "    width: 32px;\n",
              "  }\n",
              "\n",
              "  .colab-df-quickchart:hover {\n",
              "    background-color: var(--hover-bg-color);\n",
              "    box-shadow: 0 1px 2px rgba(60, 64, 67, 0.3), 0 1px 3px 1px rgba(60, 64, 67, 0.15);\n",
              "    fill: var(--button-hover-fill-color);\n",
              "  }\n",
              "\n",
              "  .colab-df-quickchart-complete:disabled,\n",
              "  .colab-df-quickchart-complete:disabled:hover {\n",
              "    background-color: var(--disabled-bg-color);\n",
              "    fill: var(--disabled-fill-color);\n",
              "    box-shadow: none;\n",
              "  }\n",
              "\n",
              "  .colab-df-spinner {\n",
              "    border: 2px solid var(--fill-color);\n",
              "    border-color: transparent;\n",
              "    border-bottom-color: var(--fill-color);\n",
              "    animation:\n",
              "      spin 1s steps(1) infinite;\n",
              "  }\n",
              "\n",
              "  @keyframes spin {\n",
              "    0% {\n",
              "      border-color: transparent;\n",
              "      border-bottom-color: var(--fill-color);\n",
              "      border-left-color: var(--fill-color);\n",
              "    }\n",
              "    20% {\n",
              "      border-color: transparent;\n",
              "      border-left-color: var(--fill-color);\n",
              "      border-top-color: var(--fill-color);\n",
              "    }\n",
              "    30% {\n",
              "      border-color: transparent;\n",
              "      border-left-color: var(--fill-color);\n",
              "      border-top-color: var(--fill-color);\n",
              "      border-right-color: var(--fill-color);\n",
              "    }\n",
              "    40% {\n",
              "      border-color: transparent;\n",
              "      border-right-color: var(--fill-color);\n",
              "      border-top-color: var(--fill-color);\n",
              "    }\n",
              "    60% {\n",
              "      border-color: transparent;\n",
              "      border-right-color: var(--fill-color);\n",
              "    }\n",
              "    80% {\n",
              "      border-color: transparent;\n",
              "      border-right-color: var(--fill-color);\n",
              "      border-bottom-color: var(--fill-color);\n",
              "    }\n",
              "    90% {\n",
              "      border-color: transparent;\n",
              "      border-bottom-color: var(--fill-color);\n",
              "    }\n",
              "  }\n",
              "</style>\n",
              "\n",
              "  <script>\n",
              "    async function quickchart(key) {\n",
              "      const quickchartButtonEl =\n",
              "        document.querySelector('#' + key + ' button');\n",
              "      quickchartButtonEl.disabled = true;  // To prevent multiple clicks.\n",
              "      quickchartButtonEl.classList.add('colab-df-spinner');\n",
              "      try {\n",
              "        const charts = await google.colab.kernel.invokeFunction(\n",
              "            'suggestCharts', [key], {});\n",
              "      } catch (error) {\n",
              "        console.error('Error during call to suggestCharts:', error);\n",
              "      }\n",
              "      quickchartButtonEl.classList.remove('colab-df-spinner');\n",
              "      quickchartButtonEl.classList.add('colab-df-quickchart-complete');\n",
              "    }\n",
              "    (() => {\n",
              "      let quickchartButtonEl =\n",
              "        document.querySelector('#df-3bdb2202-666e-4a4f-97dd-2d0b351dd439 button');\n",
              "      quickchartButtonEl.style.display =\n",
              "        google.colab.kernel.accessAllowed ? 'block' : 'none';\n",
              "    })();\n",
              "  </script>\n",
              "</div>\n",
              "\n",
              "    </div>\n",
              "  </div>\n"
            ],
            "application/vnd.google.colaboratory.intrinsic+json": {
              "type": "dataframe",
              "variable_name": "df_electricity",
              "summary": "{\n  \"name\": \"df_electricity\",\n  \"rows\": 4464,\n  \"fields\": [\n    {\n      \"column\": \"period\",\n      \"properties\": {\n        \"dtype\": \"object\",\n        \"num_unique_values\": 12,\n        \"samples\": [\n          \"2023-02\",\n          \"2023-03\",\n          \"2023-12\"\n        ],\n        \"semantic_type\": \"\",\n        \"description\": \"\"\n      }\n    },\n    {\n      \"column\": \"stateid\",\n      \"properties\": {\n        \"dtype\": \"category\",\n        \"num_unique_values\": 62,\n        \"samples\": [\n          \"MAT\",\n          \"VA\",\n          \"SC\"\n        ],\n        \"semantic_type\": \"\",\n        \"description\": \"\"\n      }\n    },\n    {\n      \"column\": \"stateDescription\",\n      \"properties\": {\n        \"dtype\": \"category\",\n        \"num_unique_values\": 62,\n        \"samples\": [\n          \"Middle Atlantic\",\n          \"Virginia\",\n          \"South Carolina\"\n        ],\n        \"semantic_type\": \"\",\n        \"description\": \"\"\n      }\n    },\n    {\n      \"column\": \"sectorid\",\n      \"properties\": {\n        \"dtype\": \"category\",\n        \"num_unique_values\": 6,\n        \"samples\": [\n          \"RES\",\n          \"ALL\",\n          \"TRA\"\n        ],\n        \"semantic_type\": \"\",\n        \"description\": \"\"\n      }\n    },\n    {\n      \"column\": \"sectorName\",\n      \"properties\": {\n        \"dtype\": \"category\",\n        \"num_unique_values\": 6,\n        \"samples\": [\n          \"residential\",\n          \"all sectors\",\n          \"transportation\"\n        ],\n        \"semantic_type\": \"\",\n        \"description\": \"\"\n      }\n    },\n    {\n      \"column\": \"customers\",\n      \"properties\": {\n        \"dtype\": \"string\",\n        \"num_unique_values\": 2925,\n        \"samples\": [\n          \"4745223\",\n          \"25197\",\n          \"2472985\"\n        ],\n        \"semantic_type\": \"\",\n        \"description\": \"\"\n      }\n    },\n    {\n      \"column\": \"price\",\n      \"properties\": {\n        \"dtype\": \"category\",\n        \"num_unique_values\": 1492,\n        \"samples\": [\n          \"5.91\",\n          \"9.82\",\n          \"9.95\"\n        ],\n        \"semantic_type\": \"\",\n        \"description\": \"\"\n      }\n    },\n    {\n      \"column\": \"revenue\",\n      \"properties\": {\n        \"dtype\": \"string\",\n        \"num_unique_values\": 3424,\n        \"samples\": [\n          \"331.07506\",\n          \"1.45749\",\n          \"1985.59376\"\n        ],\n        \"semantic_type\": \"\",\n        \"description\": \"\"\n      }\n    },\n    {\n      \"column\": \"sales\",\n      \"properties\": {\n        \"dtype\": \"string\",\n        \"num_unique_values\": 3430,\n        \"samples\": [\n          \"7658.19625\",\n          \"4.57657\",\n          \"32854.23586\"\n        ],\n        \"semantic_type\": \"\",\n        \"description\": \"\"\n      }\n    },\n    {\n      \"column\": \"customers-units\",\n      \"properties\": {\n        \"dtype\": \"category\",\n        \"num_unique_values\": 1,\n        \"samples\": [\n          \"number of customers\"\n        ],\n        \"semantic_type\": \"\",\n        \"description\": \"\"\n      }\n    },\n    {\n      \"column\": \"price-units\",\n      \"properties\": {\n        \"dtype\": \"category\",\n        \"num_unique_values\": 1,\n        \"samples\": [\n          \"cents per kilowatthour\"\n        ],\n        \"semantic_type\": \"\",\n        \"description\": \"\"\n      }\n    },\n    {\n      \"column\": \"revenue-units\",\n      \"properties\": {\n        \"dtype\": \"category\",\n        \"num_unique_values\": 1,\n        \"samples\": [\n          \"million dollars\"\n        ],\n        \"semantic_type\": \"\",\n        \"description\": \"\"\n      }\n    },\n    {\n      \"column\": \"sales-units\",\n      \"properties\": {\n        \"dtype\": \"category\",\n        \"num_unique_values\": 1,\n        \"samples\": [\n          \"million kilowatthours\"\n        ],\n        \"semantic_type\": \"\",\n        \"description\": \"\"\n      }\n    }\n  ]\n}"
            }
          },
          "metadata": {},
          "execution_count": 114
        }
      ]
    },
    {
      "cell_type": "code",
      "source": [
        "import pandas as pd\n",
        "import matplotlib.pyplot as plt"
      ],
      "metadata": {
        "id": "aq4uTOl_t8uO"
      },
      "execution_count": 115,
      "outputs": []
    },
    {
      "cell_type": "code",
      "source": [
        "df_clean = df_electricity.dropna(subset=['customers', 'price', 'revenue', 'sales'])\n",
        "\n",
        "df_clean['customers'] = pd.to_numeric(df_clean['customers'], errors='coerce')\n",
        "df_clean['price'] = pd.to_numeric(df_clean['price'], errors='coerce')\n",
        "df_clean['revenue'] = pd.to_numeric(df_clean['revenue'], errors='coerce')\n",
        "df_clean['sales'] = pd.to_numeric(df_clean['sales'], errors='coerce')"
      ],
      "metadata": {
        "id": "rOTREglsvrdY",
        "outputId": "e9b1c1f9-545e-42d6-8594-8c12fbacea6c",
        "colab": {
          "base_uri": "https://localhost:8080/"
        }
      },
      "execution_count": 116,
      "outputs": [
        {
          "output_type": "stream",
          "name": "stderr",
          "text": [
            "<ipython-input-116-be4ce75d4f6e>:3: SettingWithCopyWarning: \n",
            "A value is trying to be set on a copy of a slice from a DataFrame.\n",
            "Try using .loc[row_indexer,col_indexer] = value instead\n",
            "\n",
            "See the caveats in the documentation: https://pandas.pydata.org/pandas-docs/stable/user_guide/indexing.html#returning-a-view-versus-a-copy\n",
            "  df_clean['customers'] = pd.to_numeric(df_clean['customers'], errors='coerce')\n",
            "<ipython-input-116-be4ce75d4f6e>:4: SettingWithCopyWarning: \n",
            "A value is trying to be set on a copy of a slice from a DataFrame.\n",
            "Try using .loc[row_indexer,col_indexer] = value instead\n",
            "\n",
            "See the caveats in the documentation: https://pandas.pydata.org/pandas-docs/stable/user_guide/indexing.html#returning-a-view-versus-a-copy\n",
            "  df_clean['price'] = pd.to_numeric(df_clean['price'], errors='coerce')\n",
            "<ipython-input-116-be4ce75d4f6e>:5: SettingWithCopyWarning: \n",
            "A value is trying to be set on a copy of a slice from a DataFrame.\n",
            "Try using .loc[row_indexer,col_indexer] = value instead\n",
            "\n",
            "See the caveats in the documentation: https://pandas.pydata.org/pandas-docs/stable/user_guide/indexing.html#returning-a-view-versus-a-copy\n",
            "  df_clean['revenue'] = pd.to_numeric(df_clean['revenue'], errors='coerce')\n",
            "<ipython-input-116-be4ce75d4f6e>:6: SettingWithCopyWarning: \n",
            "A value is trying to be set on a copy of a slice from a DataFrame.\n",
            "Try using .loc[row_indexer,col_indexer] = value instead\n",
            "\n",
            "See the caveats in the documentation: https://pandas.pydata.org/pandas-docs/stable/user_guide/indexing.html#returning-a-view-versus-a-copy\n",
            "  df_clean['sales'] = pd.to_numeric(df_clean['sales'], errors='coerce')\n"
          ]
        }
      ]
    },
    {
      "cell_type": "code",
      "source": [
        "selected_regions = ['ENC', 'ESC', 'MAT', 'MTN', 'NEW', 'PACC', 'PACN', 'SAT']\n",
        "\n",
        "df_filtered = df_clean[df_clean['stateid'].isin(selected_regions)]\n",
        "\n",
        "region_aggregation = df_filtered.groupby('stateid').agg({\n",
        "    'customers': 'sum',\n",
        "    'revenue': 'sum',\n",
        "    'sales': 'sum',\n",
        "    'price': 'mean'\n",
        "})\n",
        "\n",
        "print(region_aggregation)"
      ],
      "metadata": {
        "id": "86ymt8tTvtVr",
        "outputId": "8df2c291-f0e5-446e-cf6e-7c371d5f8dcf",
        "colab": {
          "base_uri": "https://localhost:8080/"
        }
      },
      "execution_count": 117,
      "outputs": [
        {
          "output_type": "stream",
          "name": "stdout",
          "text": [
            "         customers       revenue         sales      price\n",
            "stateid                                                  \n",
            "ENC      561234846  129849.21167  1.079367e+06  11.075667\n",
            "ESC      246418602   66147.88928  6.085237e+05   8.604000\n",
            "MAT      457890732  107433.27431  6.961777e+05  14.578000\n",
            "MTN      291744128   66311.50762  5.991952e+05  10.857500\n",
            "NEW      180607540   50280.18641  2.211716e+05  19.748167\n",
            "PACC     522530610  145917.02644  7.618476e+05  17.248333\n",
            "PACN      20721786    9447.09650  2.978260e+04  25.431667\n",
            "SAT      820838572  203869.21938  1.694532e+06  11.110667\n"
          ]
        }
      ]
    },
    {
      "cell_type": "code",
      "source": [
        "region_aggregation['customers'].plot(kind = 'bar')\n",
        "plt.title('Total Customers by Region 2023')\n",
        "plt.xlabel('Region')\n",
        "plt.ylabel('Total Customers')\n",
        "plt.show()"
      ],
      "metadata": {
        "id": "s80HxM5kwnG4",
        "outputId": "109a917f-370d-4c58-dfd8-ed568ee8a04a",
        "colab": {
          "base_uri": "https://localhost:8080/",
          "height": 495
        }
      },
      "execution_count": 118,
      "outputs": [
        {
          "output_type": "display_data",
          "data": {
            "text/plain": [
              "<Figure size 640x480 with 1 Axes>"
            ],
            "image/png": "[encoded data removed]"
          },
          "metadata": {}
        }
      ]
    },
    {
      "cell_type": "code",
      "source": [
        "region_aggregation['revenue'].plot(kind = 'bar')\n",
        "plt.title('Total Revenue by Region 2023 (Million $)')\n",
        "plt.xlabel('Region')\n",
        "plt.ylabel('Total Revenue (Million $)')\n",
        "plt.show()"
      ],
      "metadata": {
        "id": "yw9t4DXG2vsh",
        "outputId": "a0aaab55-3f57-4155-a979-62973c45f817",
        "colab": {
          "base_uri": "https://localhost:8080/",
          "height": 495
        }
      },
      "execution_count": 119,
      "outputs": [
        {
          "output_type": "display_data",
          "data": {
            "text/plain": [
              "<Figure size 640x480 with 1 Axes>"
            ],
            "image/png": "[encoded data removed]"
          },
          "metadata": {}
        }
      ]
    },
    {
      "cell_type": "code",
      "source": [
        "region_aggregation['price'].plot(kind = 'bar')\n",
        "plt.title('Average Price by Region 2023 (cents/kWH)')\n",
        "plt.xlabel('Region')\n",
        "plt.ylabel('Average Price (cents/kWH)')\n",
        "plt.show()"
      ],
      "metadata": {
        "id": "6uxPIxDC3Wzo",
        "outputId": "0a83e3a0-375d-4dec-ea95-571cdd8f0905",
        "colab": {
          "base_uri": "https://localhost:8080/",
          "height": 495
        }
      },
      "execution_count": 120,
      "outputs": [
        {
          "output_type": "display_data",
          "data": {
            "text/plain": [
              "<Figure size 640x480 with 1 Axes>"
            ],
            "image/png": "[encoded data removed]"
          },
          "metadata": {}
        }
      ]
    }
  ],
  "metadata": {
    "language_info": {
      "name": "python"
    },
    "colab": {
      "provenance": []
    },
    "kernelspec": {
      "name": "python3",
      "display_name": "Python 3"
    }
  },
  "nbformat": 4,
  "nbformat_minor": 0
}